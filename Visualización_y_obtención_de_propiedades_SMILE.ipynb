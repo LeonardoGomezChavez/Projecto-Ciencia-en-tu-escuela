{
  "nbformat": 4,
  "nbformat_minor": 0,
  "metadata": {
    "colab": {
      "provenance": []
    },
    "kernelspec": {
      "name": "python3",
      "display_name": "Python 3"
    },
    "language_info": {
      "name": "python"
    }
  },
  "cells": [
    {
      "cell_type": "markdown",
      "source": [
        "## **Instalando librerias necesarias**"
      ],
      "metadata": {
        "id": "nunDL2DCS_xY"
      }
    },
    {
      "cell_type": "code",
      "source": [
        "!pip install rdkit"
      ],
      "metadata": {
        "colab": {
          "base_uri": "https://localhost:8080/"
        },
        "id": "mx04mRrDRmtT",
        "outputId": "1a80b5c1-7d19-4bcf-d945-0faafae3aa77"
      },
      "execution_count": 1,
      "outputs": [
        {
          "output_type": "stream",
          "name": "stdout",
          "text": [
            "Collecting rdkit\n",
            "  Downloading rdkit-2025.3.5-cp312-cp312-manylinux_2_28_x86_64.whl.metadata (4.1 kB)\n",
            "Requirement already satisfied: numpy in /usr/local/lib/python3.12/dist-packages (from rdkit) (2.0.2)\n",
            "Requirement already satisfied: Pillow in /usr/local/lib/python3.12/dist-packages (from rdkit) (11.3.0)\n",
            "Downloading rdkit-2025.3.5-cp312-cp312-manylinux_2_28_x86_64.whl (36.2 MB)\n",
            "\u001b[2K   \u001b[90m━━━━━━━━━━━━━━━━━━━━━━━━━━━━━━━━━━━━━━━━\u001b[0m \u001b[32m36.2/36.2 MB\u001b[0m \u001b[31m39.5 MB/s\u001b[0m eta \u001b[36m0:00:00\u001b[0m\n",
            "\u001b[?25hInstalling collected packages: rdkit\n",
            "Successfully installed rdkit-2025.3.5\n"
          ]
        }
      ]
    },
    {
      "cell_type": "markdown",
      "source": [
        "# Definiendo funciones para lectura y visualización de molécular"
      ],
      "metadata": {
        "id": "hk5_Qb0oTF38"
      }
    },
    {
      "cell_type": "markdown",
      "source": [
        "## Lectura y de moléculas"
      ],
      "metadata": {
        "id": "yPq6X1OZTkaE"
      }
    },
    {
      "cell_type": "code",
      "source": [
        "# Asegúrate de tener RDKit instalado\n",
        "# pip install rdkit\n",
        "\n",
        "from rdkit import Chem\n",
        "from rdkit.Chem import Descriptors\n",
        "from rdkit.Chem.rdMolDescriptors import CalcMolFormula\n",
        "from IPython.display import display, HTML\n",
        "\n",
        "def analizar_molecula(smiles: str):\n",
        "    \"\"\"\n",
        "    Analiza una molécula a partir de su cadena SMILES y muestra sus propiedades,\n",
        "    junto con una visualización 2D.\n",
        "\n",
        "    Args:\n",
        "        smiles (str): La cadena SMILES de la molécula.\n",
        "    \"\"\"\n",
        "    try:\n",
        "        # 1. Crear el objeto de molécula de RDKit\n",
        "        mol = Chem.MolFromSmiles(smiles)\n",
        "        if mol is None:\n",
        "            print(\"Error: SMILES inválido. No se puede analizar la molécula.\")\n",
        "            return\n",
        "\n",
        "        print(f\"--- Análisis de la molécula con SMILES: {smiles} ---\")\n",
        "\n",
        "        # 2. Calcular y mostrar las propiedades\n",
        "        formula = CalcMolFormula(mol)\n",
        "        peso_molecular = Descriptors.MolWt(mol)\n",
        "        logP = Descriptors.MolLogP(mol)\n",
        "        donantes_h = Descriptors.NumHDonors(mol)\n",
        "        aceptores_h = Descriptors.NumHAcceptors(mol)\n",
        "\n",
        "        double_bonds = sum(1 for bond in mol.GetBonds() if bond.GetBondType() == Chem.rdchem.BondType.DOUBLE)\n",
        "        triple_bonds = sum(1 for bond in mol.GetBonds() if bond.GetBondType() == Chem.rdchem.BondType.TRIPLE)\n",
        "\n",
        "        print(f\"Fórmula Química: {formula}\")\n",
        "        print(f\"Peso Molecular: {peso_molecular:.2f} g/mol\")\n",
        "        print(f\"logP: {logP:.2f}\")\n",
        "        print(f\"Enlaces Dobles: {double_bonds}\")\n",
        "        print(f\"Enlaces Triples: {triple_bonds}\")\n",
        "        print(f\"Donantes de H: {donantes_h}\")\n",
        "        print(f\"Aceptores de H: {aceptores_h}\")\n",
        "        print(\"-\" * 60)\n",
        "\n",
        "        # 3. Visualizar la molécula en 2D\n",
        "        print(\"\\nVisualización 2D:\")\n",
        "        display(mol)\n",
        "\n",
        "    except Exception as e:\n",
        "        print(f\"Ocurrió un error inesperado: {e}\")\n",
        "\n"
      ],
      "metadata": {
        "id": "qojDHL7KXhnv"
      },
      "execution_count": 10,
      "outputs": []
    },
    {
      "cell_type": "markdown",
      "source": [
        "# Ejemplos"
      ],
      "metadata": {
        "id": "qBYXlP8hYPT7"
      }
    },
    {
      "cell_type": "code",
      "source": [
        "# Ejemplo con Cafeína\n",
        "analizar_molecula(\"CN1C=NC2=C1C(=O)N(C(=O)N2C)C\")\n",
        "\n",
        "print(\"\\n\" + \"=\"*50 + \"\\n\")\n",
        "\n",
        "# Ejemplo con Ibuprofeno\n",
        "analizar_molecula(\"CC(C)Cc1ccc(C(C)C(=O)O)cc1\")\n",
        "\n",
        "print(\"\\n\" + \"=\"*50 + \"\\n\")\n",
        "\n",
        "# Ejemplos\n",
        "analizar_molecula(\"CC(=O)OC1=CC=CC=C1C(=O)O\")\n",
        "\n",
        "print(\"\\n\" + \"=\"*50 + \"\\n\")\n",
        "\n",
        "# Ejemplos\n",
        "analizar_molecula(\"CCCCCCC#CCCCCC\")\n"
      ],
      "metadata": {
        "colab": {
          "base_uri": "https://localhost:8080/",
          "height": 1000
        },
        "id": "JlnJ6RhzYKF-",
        "outputId": "78a29897-9de8-4f1b-a44d-f542e5e3a9cf"
      },
      "execution_count": 11,
      "outputs": [
        {
          "output_type": "stream",
          "name": "stdout",
          "text": [
            "--- Análisis de la molécula con SMILES: CN1C=NC2=C1C(=O)N(C(=O)N2C)C ---\n",
            "Fórmula Química: C8H10N4O2\n",
            "Peso Molecular: 194.19 g/mol\n",
            "logP: -1.03\n",
            "Enlaces Dobles: 2\n",
            "Enlaces Triples: 0\n",
            "Donantes de H: 0\n",
            "Aceptores de H: 6\n",
            "------------------------------------------------------------\n",
            "\n",
            "Visualización 2D:\n"
          ]
        },
        {
          "output_type": "display_data",
          "data": {
            "text/plain": [
              "<rdkit.Chem.rdchem.Mol at 0x7c0a74e99070>"
            ],
            "image/png": "[encoded data removed]"
          },
          "metadata": {}
        },
        {
          "output_type": "stream",
          "name": "stdout",
          "text": [
            "\n",
            "==================================================\n",
            "\n",
            "--- Análisis de la molécula con SMILES: CC(C)Cc1ccc(C(C)C(=O)O)cc1 ---\n",
            "Fórmula Química: C13H18O2\n",
            "Peso Molecular: 206.28 g/mol\n",
            "logP: 3.07\n",
            "Enlaces Dobles: 1\n",
            "Enlaces Triples: 0\n",
            "Donantes de H: 1\n",
            "Aceptores de H: 1\n",
            "------------------------------------------------------------\n",
            "\n",
            "Visualización 2D:\n"
          ]
        },
        {
          "output_type": "display_data",
          "data": {
            "text/plain": [
              "<rdkit.Chem.rdchem.Mol at 0x7c0a7659d8c0>"
            ],
            "image/png": "[encoded data removed]"
          },
          "metadata": {}
        },
        {
          "output_type": "stream",
          "name": "stdout",
          "text": [
            "\n",
            "==================================================\n",
            "\n",
            "--- Análisis de la molécula con SMILES: CC(=O)OC1=CC=CC=C1C(=O)O ---\n",
            "Fórmula Química: C9H8O4\n",
            "Peso Molecular: 180.16 g/mol\n",
            "logP: 1.31\n",
            "Enlaces Dobles: 2\n",
            "Enlaces Triples: 0\n",
            "Donantes de H: 1\n",
            "Aceptores de H: 3\n",
            "------------------------------------------------------------\n",
            "\n",
            "Visualización 2D:\n"
          ]
        },
        {
          "output_type": "display_data",
          "data": {
            "text/plain": [
              "<rdkit.Chem.rdchem.Mol at 0x7c0a7659d8c0>"
            ],
            "image/png": "[encoded data removed]"
          },
          "metadata": {}
        },
        {
          "output_type": "stream",
          "name": "stdout",
          "text": [
            "\n",
            "==================================================\n",
            "\n",
            "--- Análisis de la molécula con SMILES: CCCCCCC#CCCCCC ---\n",
            "Fórmula Química: C13H24\n",
            "Peso Molecular: 180.33 g/mol\n",
            "logP: 4.54\n",
            "Enlaces Dobles: 0\n",
            "Enlaces Triples: 1\n",
            "Donantes de H: 0\n",
            "Aceptores de H: 0\n",
            "------------------------------------------------------------\n",
            "\n",
            "Visualización 2D:\n"
          ]
        },
        {
          "output_type": "display_data",
          "data": {
            "text/plain": [
              "<rdkit.Chem.rdchem.Mol at 0x7c0a7659d8c0>"
            ],
            "image/png": "[encoded data removed]"
          },
          "metadata": {}
        }
      ]
    }
  ]
}